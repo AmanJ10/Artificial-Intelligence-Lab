{
 "cells": [
  {
   "cell_type": "markdown",
   "metadata": {},
   "source": [
    "## AI Lab Internals\n",
    "\n",
    "### Name: Sahil Hedau\n",
    "### Batch: A3\n",
    "### Roll no.: 56"
   ]
  },
  {
   "cell_type": "markdown",
   "metadata": {},
   "source": [
    "--- \n",
    "#### Apply KNN algorithm on following dataset and find value of \"C\" when A=4 and B=7."
   ]
  },
  {
   "cell_type": "code",
   "execution_count": 1,
   "metadata": {},
   "outputs": [],
   "source": [
    "data = [                        # Defining our Data.\n",
    "    [[1,6],\"Yes\"],\n",
    "    [[4,5],\"No\"],\n",
    "    [[6,4],\"No\"],\n",
    "    [[2,6],\"Yes\"],\n",
    "    [[8,4],\"Yes\"],\n",
    "    [[2,5],\"Yes\"],\n",
    "    [[3,1],\"No\"]\n",
    "]"
   ]
  },
  {
   "cell_type": "code",
   "execution_count": 2,
   "metadata": {},
   "outputs": [],
   "source": [
    "# Function to find euclidean distance between 2 points\n",
    "\n",
    "import math         \n",
    "\n",
    "def euclidean_distance(point1, point2):\n",
    "    x1, y1 = point1\n",
    "    x2, y2 = point2\n",
    "    return math.sqrt((x2 - x1)**2 + (y2 - y1)**2)"
   ]
  },
  {
   "cell_type": "code",
   "execution_count": 3,
   "metadata": {},
   "outputs": [
    {
     "name": "stdout",
     "output_type": "stream",
     "text": [
      "Distance between target point and all data points along with their output\n"
     ]
    },
    {
     "data": {
      "text/plain": [
       "[[2.0, 'No'],\n",
       " [2.23606797749979, 'Yes'],\n",
       " [2.8284271247461903, 'Yes'],\n",
       " [3.1622776601683795, 'Yes'],\n",
       " [3.605551275463989, 'No'],\n",
       " [5.0, 'Yes'],\n",
       " [6.082762530298219, 'No']]"
      ]
     },
     "execution_count": 3,
     "metadata": {},
     "output_type": "execute_result"
    }
   ],
   "source": [
    "# Finding dist_data which will store distance between target point and data points along with their output.\n",
    "\n",
    "target = [4,7]\n",
    "dist_data = []\n",
    "\n",
    "for val in data:\n",
    "    pair, output = val\n",
    "    dist_data.append([euclidean_distance(pair, target), output])\n",
    "\n",
    "# Sorting dist_data according to distance b/w points\n",
    "    \n",
    "dist_data.sort(key=lambda x:x[0])\n",
    "print(\"Distance between target point and all data points along with their output\")\n",
    "dist_data\n"
   ]
  },
  {
   "cell_type": "code",
   "execution_count": 4,
   "metadata": {},
   "outputs": [],
   "source": [
    "def KNN(k):\n",
    "    nearest_output = []         # Will store the class of our first k test set\n",
    "\n",
    "    for i in range(0,k):\n",
    "        nearest_output.append(data[i][1])\n",
    "\n",
    "    count_yes = nearest_output.count(\"Yes\")\n",
    "    count_no = nearest_output.count(\"No\")\n",
    "    print(nearest_output)\n",
    "\n",
    "    if(count_no < count_yes):\n",
    "        print(\"Yes\")\n",
    "    else:\n",
    "        print(\"No\")"
   ]
  },
  {
   "cell_type": "code",
   "execution_count": 5,
   "metadata": {},
   "outputs": [
    {
     "name": "stdout",
     "output_type": "stream",
     "text": [
      "['Yes']\n",
      "Yes\n"
     ]
    }
   ],
   "source": [
    "KNN(1)"
   ]
  },
  {
   "cell_type": "code",
   "execution_count": 6,
   "metadata": {},
   "outputs": [
    {
     "name": "stdout",
     "output_type": "stream",
     "text": [
      "['Yes', 'No', 'No']\n",
      "No\n"
     ]
    }
   ],
   "source": [
    "KNN(3)"
   ]
  },
  {
   "cell_type": "code",
   "execution_count": 7,
   "metadata": {},
   "outputs": [
    {
     "name": "stdout",
     "output_type": "stream",
     "text": [
      "['Yes', 'No', 'No', 'Yes', 'Yes']\n",
      "Yes\n"
     ]
    }
   ],
   "source": [
    "KNN(5)"
   ]
  },
  {
   "cell_type": "code",
   "execution_count": null,
   "metadata": {},
   "outputs": [],
   "source": []
  }
 ],
 "metadata": {
  "kernelspec": {
   "display_name": "base",
   "language": "python",
   "name": "python3"
  },
  "language_info": {
   "codemirror_mode": {
    "name": "ipython",
    "version": 3
   },
   "file_extension": ".py",
   "mimetype": "text/x-python",
   "name": "python",
   "nbconvert_exporter": "python",
   "pygments_lexer": "ipython3",
   "version": "3.11.7"
  }
 },
 "nbformat": 4,
 "nbformat_minor": 2
}
