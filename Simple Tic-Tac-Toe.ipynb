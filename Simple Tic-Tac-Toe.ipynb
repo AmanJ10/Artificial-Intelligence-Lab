{
  "cells": [
    {
      "cell_type": "markdown",
      "id": "b7c7449e",
      "metadata": {
        "id": "b7c7449e"
      },
      "source": [
        "## Artificial Intelligence Lab\n",
        "## Name : Aman Joharapurkar\n",
        "## Roll No : A2-32\n",
        "### Practical - 1\n",
        "### Write a program to implement tic tac toe game. This problem is a generalised problem of x o .\n",
        "### Represent the problem by using 3x3 matrix. Player 1 is a user and player 2 is a computer. Automatic game playing will be stopped either anyone wins the game or game is drawn.\n",
        "\n",
        "### User x\n",
        "### Computer o\n",
        "\n"
      ]
    },
    {
      "cell_type": "code",
      "execution_count": null,
      "id": "347a49ae",
      "metadata": {
        "id": "347a49ae",
        "outputId": "a2f212e0-8ba2-4a61-c501-64a88c8ab678"
      },
      "outputs": [
        {
          "name": "stdout",
          "output_type": "stream",
          "text": [
            "User symbol : x\n",
            "Computer Symbol : o \n"
          ]
        }
      ],
      "source": [
        "print(\"User symbol : x\\nComputer Symbol : o \")"
      ]
    },
    {
      "cell_type": "code",
      "execution_count": null,
      "id": "617ece92",
      "metadata": {
        "id": "617ece92"
      },
      "outputs": [],
      "source": [
        "import random"
      ]
    },
    {
      "cell_type": "code",
      "execution_count": null,
      "id": "0d5c6235",
      "metadata": {
        "id": "0d5c6235"
      },
      "outputs": [],
      "source": [
        "board = [['','',''],['','',''],['','','']]\n",
        "def display():\n",
        "    print(board[0])\n",
        "    print(board[1])\n",
        "    print(board[2])"
      ]
    },
    {
      "cell_type": "code",
      "execution_count": null,
      "id": "6d5c730e",
      "metadata": {
        "id": "6d5c730e"
      },
      "outputs": [],
      "source": [
        "def player():\n",
        "    x = int(input(\"Enter row no: \"))\n",
        "    y = int(input(\"Enter Col no: \"))\n",
        "    if board[x][y] != '':\n",
        "        print(\"Cannot place\")\n",
        "    else:\n",
        "        board[x][y] = 'x'\n",
        "        display()\n",
        "        if solve('x'):\n",
        "            print(\"Player wins!!\\n\")\n",
        "            return True\n",
        "    return False"
      ]
    },
    {
      "cell_type": "code",
      "execution_count": null,
      "id": "cc31d3de",
      "metadata": {
        "id": "cc31d3de"
      },
      "outputs": [],
      "source": [
        "def computer():\n",
        "    while True:\n",
        "        a = random.randint(0, 2)\n",
        "        b = random.randint(0, 2)\n",
        "        print(f\"Computer move: {a}, {b}\")\n",
        "        if board[a][b] == '':\n",
        "            board[a][b] = 'o'\n",
        "            display()\n",
        "            if solve('o'):\n",
        "                print(\"Computer wins!!\\n\")\n",
        "                return True\n",
        "            else:\n",
        "                return False"
      ]
    },
    {
      "cell_type": "code",
      "execution_count": null,
      "id": "d08222f4",
      "metadata": {
        "id": "d08222f4"
      },
      "outputs": [],
      "source": [
        "def solve(player):\n",
        "    for row in board:\n",
        "        if row[0] == row[1] == row[2] == player:\n",
        "            return True\n",
        "    for col in range(3):\n",
        "        if board[0][col] == board[1][col] == board[2][col] == player:\n",
        "            return True\n",
        "    if board[0][0] == board[1][1] == board[2][2] == player:\n",
        "        return True\n",
        "    if board[0][2] == board[1][1] == board[2][0] == player:\n",
        "        return True\n",
        "    return False"
      ]
    },
    {
      "cell_type": "code",
      "execution_count": null,
      "id": "9575af90",
      "metadata": {
        "id": "9575af90"
      },
      "outputs": [],
      "source": [
        "def board_full():\n",
        "    for row in board:\n",
        "        if '' in row:\n",
        "            return False\n",
        "    return True"
      ]
    },
    {
      "cell_type": "code",
      "execution_count": null,
      "id": "771f21ab",
      "metadata": {
        "id": "771f21ab",
        "outputId": "c7405ec9-cd31-4b53-9f14-daabdc1ed027"
      },
      "outputs": [
        {
          "name": "stdout",
          "output_type": "stream",
          "text": [
            "Enter row no: 1\n",
            "Enter Col no: 1\n",
            "['', '', '']\n",
            "['', 'x', '']\n",
            "['', '', '']\n",
            "Computer move: 2, 2\n",
            "['', '', '']\n",
            "['', 'x', '']\n",
            "['', '', 'o']\n",
            "Enter row no: 1\n",
            "Enter Col no: 2\n",
            "['', '', '']\n",
            "['', 'x', 'x']\n",
            "['', '', 'o']\n",
            "Computer move: 1, 1\n",
            "Computer move: 1, 0\n",
            "['', '', '']\n",
            "['o', 'x', 'x']\n",
            "['', '', 'o']\n",
            "Enter row no: 0\n",
            "Enter Col no: 0\n",
            "['x', '', '']\n",
            "['o', 'x', 'x']\n",
            "['', '', 'o']\n",
            "Computer move: 2, 1\n",
            "['x', '', '']\n",
            "['o', 'x', 'x']\n",
            "['', 'o', 'o']\n",
            "Enter row no: 0\n",
            "Enter Col no: 2\n",
            "['x', '', 'x']\n",
            "['o', 'x', 'x']\n",
            "['', 'o', 'o']\n",
            "Computer move: 1, 0\n",
            "Computer move: 2, 0\n",
            "['x', '', 'x']\n",
            "['o', 'x', 'x']\n",
            "['o', 'o', 'o']\n",
            "Computer wins!!\n",
            "\n"
          ]
        }
      ],
      "source": [
        "flag = False\n",
        "while True:\n",
        "    if not flag:\n",
        "        if player():\n",
        "            break\n",
        "    if board_full():\n",
        "        print(\"It's a draw!\\n\")\n",
        "        break\n",
        "    if not flag:\n",
        "        flag = computer()"
      ]
    },
    {
      "cell_type": "code",
      "execution_count": null,
      "id": "7174b2f3",
      "metadata": {
        "id": "7174b2f3"
      },
      "outputs": [],
      "source": []
    },
    {
      "cell_type": "code",
      "execution_count": null,
      "id": "4fb814c0",
      "metadata": {
        "id": "4fb814c0"
      },
      "outputs": [],
      "source": []
    }
  ],
  "metadata": {
    "kernelspec": {
      "display_name": "Python 3 (ipykernel)",
      "language": "python",
      "name": "python3"
    },
    "language_info": {
      "codemirror_mode": {
        "name": "ipython",
        "version": 3
      },
      "file_extension": ".py",
      "mimetype": "text/x-python",
      "name": "python",
      "nbconvert_exporter": "python",
      "pygments_lexer": "ipython3",
      "version": "3.11.4"
    },
    "colab": {
      "provenance": []
    }
  },
  "nbformat": 4,
  "nbformat_minor": 5
}