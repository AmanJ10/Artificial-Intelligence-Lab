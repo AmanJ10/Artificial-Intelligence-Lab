{
 "cells": [
  {
   "cell_type": "code",
   "execution_count": 3,
   "metadata": {},
   "outputs": [
    {
     "name": "stdout",
     "output_type": "stream",
     "text": [
      "Starting Water Jug Problem with capacities (4, 3) and target amount 2.\n",
      "\n",
      "Current State: (0, 0)\n",
      "Current State: (4, 0)\n",
      "Current State: (0, 3)\n",
      "Current State: (0, 0)\n",
      "Current State: (4, 3)\n",
      "Current State: (1, 3)\n",
      "Current State: (3, 0)\n",
      "Current State: (1, 0)\n",
      "Current State: (3, 3)\n",
      "Current State: (0, 1)\n",
      "Current State: (4, 2)\n",
      "Current State: (4, 1)\n",
      "Current State: (0, 2)\n",
      "Current State: (2, 3)\n",
      "\n",
      "Target amount of 2 can be achieved.\n",
      "Solution Path:\n",
      "- Fill jug1\n",
      "- Pour jug1 to jug2\n",
      "- Empty jug2\n",
      "- Pour jug1 to jug2\n",
      "- Fill jug1\n",
      "- Pour jug1 to jug2\n"
     ]
    }
   ],
   "source": [
    "from collections import deque\n",
    "\n",
    "def water_jug_problem(capacities, target):\n",
    "    # BFS to find the minimum steps to reach the target amount\n",
    "    queue = deque([(0, 0, [])])  # (current state: (amount in jug1, amount in jug2, path))\n",
    "    visited = set((0, 0))\n",
    "    \n",
    "    while queue:\n",
    "        jug1, jug2, path = queue.popleft()\n",
    "        \n",
    "        # Print the current state\n",
    "        print(f\"Current State: ({jug1}, {jug2})\")\n",
    "        \n",
    "        # # Check if target amount is achieved\n",
    "        # if jug1 == target or jug2 == target or jug1 + jug2 == target:\n",
    "        #     return True, path\n",
    "\n",
    "        # Check if target amount is achieved\n",
    "        if jug1 == target:\n",
    "            return True, path\n",
    "        \n",
    "        # Generate all possible states by pouring water\n",
    "        next_states = [\n",
    "            (capacities[0], jug2, path + [\"Fill jug1\"]),  # Fill jug1\n",
    "            (jug1, capacities[1], path + [\"Fill jug2\"]),  # Fill jug2\n",
    "            (0, jug2, path + [\"Empty jug1\"]),             # Empty jug1\n",
    "            (jug1, 0, path + [\"Empty jug2\"]),             # Empty jug2\n",
    "            (jug1 - min(jug1, capacities[1] - jug2), jug2 + min(jug1, capacities[1] - jug2), \n",
    "             path + [\"Pour jug1 to jug2\"]),               # Pour jug1 to jug2\n",
    "            (jug1 + min(jug2, capacities[0] - jug1), jug2 - min(jug2, capacities[0] - jug1), \n",
    "             path + [\"Pour jug2 to jug1\"])               # Pour jug2 to jug1\n",
    "        ]\n",
    "        \n",
    "        for state in next_states:\n",
    "            if (state[0], state[1]) not in visited:\n",
    "                visited.add((state[0], state[1]))\n",
    "                queue.append(state)\n",
    "    \n",
    "    return False, []\n",
    "\n",
    "# Example usage\n",
    "jug_capacities = (4, 3)  # Capacities of the jugs (jug1, jug2)\n",
    "target_amount = 2       # Target amount of water to be measured\n",
    "\n",
    "print(f\"Starting Water Jug Problem with capacities {jug_capacities} and target amount {target_amount}.\\n\")\n",
    "\n",
    "result, solution_path = water_jug_problem(jug_capacities, target_amount)\n",
    "\n",
    "if result:\n",
    "    print(f\"\\nTarget amount of {target_amount} can be achieved.\")\n",
    "    print(\"Solution Path:\")\n",
    "    for step in solution_path:\n",
    "        print(\"- \" + step)\n",
    "else:\n",
    "    print(f\"\\nTarget amount of {target_amount} cannot be achieved.\")"
   ]
  },
  {
   "cell_type": "code",
   "execution_count": null,
   "metadata": {},
   "outputs": [],
   "source": []
  }
 ],
 "metadata": {
  "kernelspec": {
   "display_name": "Python 3",
   "language": "python",
   "name": "python3"
  },
  "language_info": {
   "codemirror_mode": {
    "name": "ipython",
    "version": 3
   },
   "file_extension": ".py",
   "mimetype": "text/x-python",
   "name": "python",
   "nbconvert_exporter": "python",
   "pygments_lexer": "ipython3",
   "version": "3.11.0"
  }
 },
 "nbformat": 4,
 "nbformat_minor": 2
}
