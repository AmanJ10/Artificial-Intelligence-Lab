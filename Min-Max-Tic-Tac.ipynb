{
  "cells": [
    {
      "cell_type": "markdown",
      "id": "dfb71b11",
      "metadata": {
        "id": "dfb71b11"
      },
      "source": [
        "## Artificial Intelligence Lab\n",
        "## Name : Aman Joharapurkar\n",
        "## Roll No : A2-32\n",
        "### Practical - 5\n",
        "### Write a program to implement (Min Max) tic tac toe game. This problem is a generalised problem of x o .\n",
        "### Represent the problem by using 3x3 matrix. Player 1 is a user and player 2 is a computer. Automatic game playing will be stopped either anyone wins the game or game is drawn.\n",
        "\n",
        "### User X\n",
        "### Computer O\n",
        "\n"
      ]
    },
    {
      "cell_type": "code",
      "execution_count": 1,
      "id": "e0cdbfa6",
      "metadata": {
        "colab": {
          "base_uri": "https://localhost:8080/"
        },
        "id": "e0cdbfa6",
        "outputId": "2b2d85bb-0db8-44ba-836a-086d0b4465a6"
      },
      "outputs": [
        {
          "output_type": "stream",
          "name": "stdout",
          "text": [
            "User symbol : X\n",
            "Computer Symbol : O \n"
          ]
        }
      ],
      "source": [
        "print(\"User symbol : X\\nComputer Symbol : O \")"
      ]
    },
    {
      "cell_type": "code",
      "source": [
        "HUMAN = 'X'\n",
        "COMP = 'O'\n",
        "board = [\n",
        "    [' ', ' ', ' '],\n",
        "    [' ', ' ', ' '],\n",
        "    [' ', ' ', ' '],\n",
        "]"
      ],
      "metadata": {
        "id": "CayntwdqYoYW"
      },
      "id": "CayntwdqYoYW",
      "execution_count": 2,
      "outputs": []
    },
    {
      "cell_type": "code",
      "source": [
        "def evaluate(state):\n",
        "    if wins(state, COMP):\n",
        "        score = +1\n",
        "    elif wins(state, HUMAN):\n",
        "        score = -1\n",
        "    else:\n",
        "        score = 0\n",
        "    return score"
      ],
      "metadata": {
        "id": "vwesDwIcYsLX"
      },
      "id": "vwesDwIcYsLX",
      "execution_count": 3,
      "outputs": []
    },
    {
      "cell_type": "code",
      "source": [
        "def wins(state, player):\n",
        "    win_state = [\n",
        "        [state[0][0], state[0][1], state[0][2]],\n",
        "        [state[1][0], state[1][1], state[1][2]], # 3 rows\n",
        "        [state[2][0], state[2][1], state[2][2]],\n",
        "\n",
        "        [state[0][0], state[1][0], state[2][0]],\n",
        "        [state[0][1], state[1][1], state[2][1]], # 3 columns\n",
        "        [state[0][2], state[1][2], state[2][2]],\n",
        "\n",
        "        [state[0][0], state[1][1], state[2][2]], # 2 diagonals\n",
        "        [state[2][0], state[1][1], state[0][2]],\n",
        "    ]\n",
        "    if [player, player, player] in win_state:\n",
        "        return True\n",
        "    else:\n",
        "        return False\n",
        "\n",
        "def check(state):\n",
        "    return wins(state, HUMAN) or wins(state, COMP)"
      ],
      "metadata": {
        "id": "-GYQpECsYzHT"
      },
      "id": "-GYQpECsYzHT",
      "execution_count": 4,
      "outputs": []
    },
    {
      "cell_type": "code",
      "source": [
        "def empty_cells(state):\n",
        "    cells = []\n",
        "    for x in range(len(state)):\n",
        "        for y in range(len(state[x])):\n",
        "            if state[x][y] == ' ':\n",
        "                cells.append([x, y])\n",
        "    return cells"
      ],
      "metadata": {
        "id": "n7z3ho0DY5K3"
      },
      "id": "n7z3ho0DY5K3",
      "execution_count": 5,
      "outputs": []
    },
    {
      "cell_type": "code",
      "source": [
        "def isValid(x, y):\n",
        "    if [x, y] in empty_cells(board):\n",
        "        return True\n",
        "    else:\n",
        "        return False\n",
        "\n",
        "def set_move(x, y, player):\n",
        "    if isValid(x, y):\n",
        "        board[x][y] = player\n",
        "        return True\n",
        "    else:\n",
        "        return False"
      ],
      "metadata": {
        "id": "KKvzdAs9ZXes"
      },
      "id": "KKvzdAs9ZXes",
      "execution_count": 6,
      "outputs": []
    },
    {
      "cell_type": "code",
      "source": [
        "def display_board(board):\n",
        "    for row in board:\n",
        "        print('[{}]'.format(', '.join(str(cell) for cell in row)))"
      ],
      "metadata": {
        "id": "yMu29bCaZOn2"
      },
      "id": "yMu29bCaZOn2",
      "execution_count": 7,
      "outputs": []
    },
    {
      "cell_type": "code",
      "source": [
        "def player(COMP, HUMAN):\n",
        "    depth = len(empty_cells(board))\n",
        "    if depth == 0 or check(board):\n",
        "        return\n",
        "\n",
        "    moves = {\n",
        "        1: [0, 0], 2: [0, 1], 3: [0, 2],\n",
        "        4: [1, 0], 5: [1, 1], 6: [1, 2],\n",
        "        7: [2, 0], 8: [2, 1], 9: [2, 2],\n",
        "    }\n",
        "    display_board(board)\n",
        "    while True:\n",
        "            move = int(input('Select box number between (1-9): '))\n",
        "            if move < 1 or move > 9:\n",
        "                print('Box not available. Choose another.')\n",
        "            x, y = moves[move]\n",
        "            if not set_move(x, y, HUMAN):\n",
        "                print('Box not available. Choose another.')\n",
        "                continue\n",
        "            break\n"
      ],
      "metadata": {
        "id": "aj19j8SwZChF"
      },
      "id": "aj19j8SwZChF",
      "execution_count": 8,
      "outputs": []
    },
    {
      "cell_type": "code",
      "source": [
        "import random\n",
        "def computer(c_choice, h_choice):\n",
        "    depth = len(empty_cells(board))\n",
        "    if depth == 0 or check(board):\n",
        "        return\n",
        "\n",
        "    if depth == 9:\n",
        "        empty = empty_cells(board)\n",
        "        random.shuffle(empty)\n",
        "        x, y = empty[0]\n",
        "    else:\n",
        "        move = minimax(board, depth, COMP)\n",
        "        x, y = move[0], move[1]\n",
        "\n",
        "    set_move(x, y, COMP)\n"
      ],
      "metadata": {
        "id": "XH3Hh3u1ZBYF"
      },
      "id": "XH3Hh3u1ZBYF",
      "execution_count": 9,
      "outputs": []
    },
    {
      "cell_type": "code",
      "source": [
        "def minimax(state, depth, player):\n",
        "    if player == COMP:\n",
        "        best = [-1, -1, float('-inf')]\n",
        "    else:\n",
        "        best = [-1, -1, float('inf')]\n",
        "\n",
        "    if depth == 0 or check(state):\n",
        "        score = evaluate(state)\n",
        "        return [-1, -1, score]\n",
        "\n",
        "    for cell in empty_cells(state):\n",
        "        x, y = cell[0], cell[1]\n",
        "        state[x][y] = player\n",
        "        score_list = minimax(state, depth - 1, 'O' if player == 'X' else 'X')\n",
        "        state[x][y] = ' '\n",
        "        score_list[0], score_list[1] = x, y\n",
        "\n",
        "        if player == COMP:\n",
        "            if score_list[2] > best[2]:\n",
        "                best = score_list\n",
        "\n",
        "        else:\n",
        "            if score_list[2] < best[2]:\n",
        "                best = score_list\n",
        "\n",
        "\n",
        "    return best"
      ],
      "metadata": {
        "id": "43mqH-vvZTYg"
      },
      "id": "43mqH-vvZTYg",
      "execution_count": 10,
      "outputs": []
    },
    {
      "cell_type": "code",
      "source": [
        "def process():\n",
        "    while len(empty_cells(board)) > 0 and not check(board):\n",
        "        player(COMP, HUMAN)\n",
        "        if check(board):\n",
        "            break\n",
        "        computer(COMP, HUMAN)\n",
        "\n",
        "    display_board(board)\n",
        "    if wins(board, HUMAN):\n",
        "        print('Human wins')\n",
        "    elif wins(board, COMP):\n",
        "        print('Computer Wins')\n",
        "    else:\n",
        "        print('Draw')\n",
        "process()\n"
      ],
      "metadata": {
        "colab": {
          "base_uri": "https://localhost:8080/"
        },
        "id": "ntHZxwRi-BeY",
        "outputId": "0536fd83-5376-4d82-b42b-4e2a5a62b416"
      },
      "id": "ntHZxwRi-BeY",
      "execution_count": 11,
      "outputs": [
        {
          "output_type": "stream",
          "name": "stdout",
          "text": [
            "[ ,  ,  ]\n",
            "[ ,  ,  ]\n",
            "[ ,  ,  ]\n",
            "Select box number between (1-9): 1\n",
            "[X,  ,  ]\n",
            "[ , O,  ]\n",
            "[ ,  ,  ]\n",
            "Select box number between (1-9): 4\n",
            "[X,  ,  ]\n",
            "[X, O,  ]\n",
            "[O,  ,  ]\n",
            "Select box number between (1-9): 3\n",
            "[X, O, X]\n",
            "[X, O,  ]\n",
            "[O,  ,  ]\n",
            "Select box number between (1-9): 8\n",
            "[X, O, X]\n",
            "[X, O, O]\n",
            "[O, X,  ]\n",
            "Select box number between (1-9): 9\n",
            "[X, O, X]\n",
            "[X, O, O]\n",
            "[O, X, X]\n",
            "Draw\n"
          ]
        }
      ]
    },
    {
      "cell_type": "code",
      "source": [],
      "metadata": {
        "id": "BHylKRnu_vfP"
      },
      "id": "BHylKRnu_vfP",
      "execution_count": null,
      "outputs": []
    }
  ],
  "metadata": {
    "kernelspec": {
      "display_name": "Python 3 (ipykernel)",
      "language": "python",
      "name": "python3"
    },
    "language_info": {
      "codemirror_mode": {
        "name": "ipython",
        "version": 3
      },
      "file_extension": ".py",
      "mimetype": "text/x-python",
      "name": "python",
      "nbconvert_exporter": "python",
      "pygments_lexer": "ipython3",
      "version": "3.11.4"
    },
    "colab": {
      "provenance": []
    }
  },
  "nbformat": 4,
  "nbformat_minor": 5
}